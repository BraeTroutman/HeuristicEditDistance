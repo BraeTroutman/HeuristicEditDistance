{
 "cells": [
  {
   "cell_type": "markdown",
   "id": "4f7f2e8b",
   "metadata": {},
   "source": [
    "# Analyzing Relative Performance of Different DP Methods"
   ]
  },
  {
   "cell_type": "markdown",
   "id": "c64d8f33",
   "metadata": {},
   "source": [
    "## Activate Project and Import Functions"
   ]
  },
  {
   "cell_type": "code",
   "execution_count": 1,
   "id": "36e755a0",
   "metadata": {},
   "outputs": [
    {
     "name": "stderr",
     "output_type": "stream",
     "text": [
      "\u001b[32m\u001b[1m  Activating\u001b[22m\u001b[39m project at `~/Documents/Class/ThAlgs/Edist`\n"
     ]
    }
   ],
   "source": [
    "] activate .."
   ]
  },
  {
   "cell_type": "code",
   "execution_count": 2,
   "id": "67631c22",
   "metadata": {},
   "outputs": [],
   "source": [
    "using Edist, BenchmarkTools"
   ]
  },
  {
   "cell_type": "markdown",
   "id": "1bf2228a",
   "metadata": {},
   "source": [
    "## Read FASTA Input Data"
   ]
  },
  {
   "cell_type": "code",
   "execution_count": 3,
   "id": "2b2f6b32",
   "metadata": {},
   "outputs": [
    {
     "data": {
      "text/plain": [
       "300-element Vector{String}:\n",
       " \"CTCAAAAGTCTAGAGCCACCGTCCAGGGAG\" ⋯ 2452 bytes ⋯ \"CTCTTATTTTACAATAAAACTTTGCTGCCA\"\n",
       " \"TTTCCCCTCCCACGTGCTCACCCTGGCTAA\" ⋯ 1721 bytes ⋯ \"ATAAAATTTTGTTATCACTTAAAAAAAAAA\"\n",
       " \"TCTGAAGCTCCAGTTCATTGGGACTTATCC\" ⋯ 1732 bytes ⋯ \"AAAAAAAAAAAAAAAAAAAAAAAAAAAAAA\"\n",
       " \"CTGTAACTAGGGGAATCCCCAAAACTCCAC\" ⋯ 2176 bytes ⋯ \"TCTTTAAAAAAAAAAAAAAAAAAAAAAAAA\"\n",
       " \"TAAAGTCCAGAGCCACCATCCTGGCCGCAG\" ⋯ 2115 bytes ⋯ \"AAAACTTTGCTACCAAAAAAAAAAAAAAAA\"\n",
       " \"GAATTCCGAACGGCGGCGGCGGCGGCGGCG\" ⋯ 1495 bytes ⋯ \"TTCTTTTTTTACTGAAAAAAAAAGGAATTC\"\n",
       " \"AAAAGTCCAGGGCCACCATCCTTGGCGCAG\" ⋯ 1789 bytes ⋯ \"TAGTGTGGTAGCAAAAAAAAAAAAAAAAAA\"\n",
       " \"AGTTTTGAGCTTCTCAAAAGTCCAGAGCCA\" ⋯ 2050 bytes ⋯ \"TCTCTTATTTTACAATAAAACTTTACTACC\"\n",
       " \"GCCGAGAGGAACGGACCGGATAGAAACAGA\" ⋯ 2348 bytes ⋯ \"AAAAAAAAAAAAAAAAAAAAAAAAAAAAAA\"\n",
       " \"CCATCCTGGCCGCAGTGGCCGCTGGTCTCC\" ⋯ 2095 bytes ⋯ \"AACTTTGCTACCAAAAAAAAAAAAAAAAAA\"\n",
       " \"CTCAAAAGTCTAGAGCCACCGTCCAGGGAG\" ⋯ 2574 bytes ⋯ \"CTCTTATTTTACAATAAAACTTTGCTGCCA\"\n",
       " \"GCGGCCGCGGCGCAGGTAGCTGCTGGGCTC\" ⋯ 2083 bytes ⋯ \"TCCCCTTTTTATATCGGTTTCGTGCGGCGC\"\n",
       " \"AAGGTTGGACGTTTATTCCATCCTTCTACCT\" ⋯ 700 bytes ⋯ \"CACTGAGAGTAAATGGATTTAAACCCAGAA\"\n",
       " ⋮\n",
       " \"CCAAACACCAGCGTGCTAATGCTTCCCCTC\" ⋯ 2105 bytes ⋯ \"CTTTACAGAGAGGGACACAATATATTGATT\"\n",
       " \"CTCACCCGCGGGAACCAAACAGGGGAATCC\" ⋯ 2080 bytes ⋯ \"CAAATAAAATAATCATGGAAGGTAGAAAAA\"\n",
       " \"AAGAGCCGTGCCTCTCCTTCCTGGTGGGAA\" ⋯ 2840 bytes ⋯ \"GCTTTAATCTGAAATAAACGCTTAACGTCA\"\n",
       " \"GCGCGCTGAGATTTCGTAGCCGTGTCGCGC\" ⋯ 1864 bytes ⋯ \"TTTTTCAGAATAAAAATAAATGAAGATAAA\"\n",
       " \"GTAAAAGTTTTGAGCTCCTCAAAAGTCCAG\" ⋯ 2147 bytes ⋯ \"TTCTTATTTTACAATAAAACTTTGCTACCA\"\n",
       " \"GCCCACTGTTTGAGGAAACTGTTCTTCACG\" ⋯ 2271 bytes ⋯ \"TCAAGAAAGCAAATAAACCAATAAAAAGAC\"\n",
       " \"GGCAAAGGGGGTGGATTCAAGGCGCAGTGC\" ⋯ 1558 bytes ⋯ \"TTAAATAAAGTTACATTTATCGATTTGTAA\"\n",
       " \"CCAGCCCCCCCCGCCATGGCTGAGGAGTTG\" ⋯ 1339 bytes ⋯ \"TTATACAATAAACGTCTTTTTTGTACTGCC\"\n",
       " \"AGACTGGCGCTAAAAGTTTTGAGCTTCTCA\" ⋯ 2476 bytes ⋯ \"CTCTTATTTTACAATAAAACTTTGCTGCCA\"\n",
       " \"TGCTCAAACTCAAACTCAAAATATTTTGGA\" ⋯ 2463 bytes ⋯ \"CTCAAAGCTTTAAGCAAAAAATAAATACGT\"\n",
       " \"CCCCCAAATTTTGCCAAATTTTTACCCGAA\" ⋯ 2320 bytes ⋯ \"TTTTTATACAATAAAGGGATTTTTATAGCG\"\n",
       " \"AGGGGATTCCCCAGCGCGTGCGGCAGCAGC\" ⋯ 1436 bytes ⋯ \"TATACAATAAACGTCTTTTTTTGTACCGCC\""
      ]
     },
     "execution_count": 3,
     "metadata": {},
     "output_type": "execute_result"
    }
   ],
   "source": [
    "seq = get_fasta(\"../data/TP53_cross_species.fasta\")"
   ]
  },
  {
   "cell_type": "code",
   "execution_count": 4,
   "id": "5e8e55d3",
   "metadata": {},
   "outputs": [
    {
     "data": {
      "text/plain": [
       "BenchmarkTools.Trial: 540 samples with 1 evaluation.\n",
       " Range \u001b[90m(\u001b[39m\u001b[36m\u001b[1mmin\u001b[22m\u001b[39m … \u001b[35mmax\u001b[39m\u001b[90m):  \u001b[39m\u001b[36m\u001b[1m8.822 ms\u001b[22m\u001b[39m … \u001b[35m 12.155 ms\u001b[39m  \u001b[90m┊\u001b[39m GC \u001b[90m(\u001b[39mmin … max\u001b[90m): \u001b[39m0.00% … 0.00%\n",
       " Time  \u001b[90m(\u001b[39m\u001b[34m\u001b[1mmedian\u001b[22m\u001b[39m\u001b[90m):     \u001b[39m\u001b[34m\u001b[1m9.142 ms               \u001b[22m\u001b[39m\u001b[90m┊\u001b[39m GC \u001b[90m(\u001b[39mmedian\u001b[90m):    \u001b[39m0.00%\n",
       " Time  \u001b[90m(\u001b[39m\u001b[32m\u001b[1mmean\u001b[22m\u001b[39m ± \u001b[32mσ\u001b[39m\u001b[90m):   \u001b[39m\u001b[32m\u001b[1m9.258 ms\u001b[22m\u001b[39m ± \u001b[32m360.677 μs\u001b[39m  \u001b[90m┊\u001b[39m GC \u001b[90m(\u001b[39mmean ± σ\u001b[90m):  \u001b[39m1.16% ± 2.72%\n",
       "\n",
       "  \u001b[39m \u001b[39m \u001b[39m \u001b[39m \u001b[39m▃\u001b[39m▅\u001b[39m▇\u001b[39m▇\u001b[39m█\u001b[34m▇\u001b[39m\u001b[39m▇\u001b[39m▄\u001b[39m▅\u001b[32m▁\u001b[39m\u001b[39m▂\u001b[39m \u001b[39m \u001b[39m \u001b[39m \u001b[39m \u001b[39m \u001b[39m \u001b[39m▃\u001b[39m▂\u001b[39m▃\u001b[39m▂\u001b[39m \u001b[39m \u001b[39m \u001b[39m \u001b[39m \u001b[39m \u001b[39m \u001b[39m \u001b[39m \u001b[39m \u001b[39m \u001b[39m \u001b[39m \u001b[39m \u001b[39m \u001b[39m \u001b[39m \u001b[39m \u001b[39m \u001b[39m \u001b[39m \u001b[39m \u001b[39m \u001b[39m \u001b[39m \u001b[39m \u001b[39m \u001b[39m \u001b[39m \u001b[39m \u001b[39m \u001b[39m \u001b[39m \u001b[39m \u001b[39m \n",
       "  \u001b[39m▆\u001b[39m▆\u001b[39m▄\u001b[39m█\u001b[39m█\u001b[39m█\u001b[39m█\u001b[39m█\u001b[39m█\u001b[34m█\u001b[39m\u001b[39m█\u001b[39m█\u001b[39m█\u001b[32m█\u001b[39m\u001b[39m█\u001b[39m█\u001b[39m▄\u001b[39m▆\u001b[39m▆\u001b[39m▆\u001b[39m█\u001b[39m█\u001b[39m█\u001b[39m█\u001b[39m█\u001b[39m█\u001b[39m▆\u001b[39m▆\u001b[39m▆\u001b[39m▄\u001b[39m▄\u001b[39m▄\u001b[39m▆\u001b[39m▄\u001b[39m▆\u001b[39m▁\u001b[39m▄\u001b[39m▄\u001b[39m▁\u001b[39m▁\u001b[39m▁\u001b[39m▁\u001b[39m▄\u001b[39m▁\u001b[39m▄\u001b[39m▁\u001b[39m▁\u001b[39m▁\u001b[39m▁\u001b[39m▁\u001b[39m▁\u001b[39m▄\u001b[39m▁\u001b[39m▄\u001b[39m▁\u001b[39m▁\u001b[39m▆\u001b[39m▁\u001b[39m▆\u001b[39m \u001b[39m█\n",
       "  8.82 ms\u001b[90m      \u001b[39m\u001b[90mHistogram: \u001b[39m\u001b[90m\u001b[1mlog(\u001b[22m\u001b[39m\u001b[90mfrequency\u001b[39m\u001b[90m\u001b[1m)\u001b[22m\u001b[39m\u001b[90m by time\u001b[39m      10.9 ms \u001b[0m\u001b[1m<\u001b[22m\n",
       "\n",
       " Memory estimate\u001b[90m: \u001b[39m\u001b[33m10.01 MiB\u001b[39m, allocs estimate\u001b[90m: \u001b[39m\u001b[33m9\u001b[39m."
      ]
     },
     "execution_count": 4,
     "metadata": {},
     "output_type": "execute_result"
    }
   ],
   "source": [
    "@benchmark score(Bounded, seq[1], seq[2])"
   ]
  },
  {
   "cell_type": "code",
   "execution_count": 5,
   "id": "53486bea",
   "metadata": {},
   "outputs": [
    {
     "data": {
      "text/plain": [
       "BenchmarkTools.Trial: 231 samples with 1 evaluation.\n",
       " Range \u001b[90m(\u001b[39m\u001b[36m\u001b[1mmin\u001b[22m\u001b[39m … \u001b[35mmax\u001b[39m\u001b[90m):  \u001b[39m\u001b[36m\u001b[1m20.198 ms\u001b[22m\u001b[39m … \u001b[35m24.495 ms\u001b[39m  \u001b[90m┊\u001b[39m GC \u001b[90m(\u001b[39mmin … max\u001b[90m): \u001b[39m0.00% … 15.05%\n",
       " Time  \u001b[90m(\u001b[39m\u001b[34m\u001b[1mmedian\u001b[22m\u001b[39m\u001b[90m):     \u001b[39m\u001b[34m\u001b[1m20.588 ms              \u001b[22m\u001b[39m\u001b[90m┊\u001b[39m GC \u001b[90m(\u001b[39mmedian\u001b[90m):    \u001b[39m0.00%\n",
       " Time  \u001b[90m(\u001b[39m\u001b[32m\u001b[1mmean\u001b[22m\u001b[39m ± \u001b[32mσ\u001b[39m\u001b[90m):   \u001b[39m\u001b[32m\u001b[1m21.655 ms\u001b[22m\u001b[39m ± \u001b[32m 1.652 ms\u001b[39m  \u001b[90m┊\u001b[39m GC \u001b[90m(\u001b[39mmean ± σ\u001b[90m):  \u001b[39m5.42% ±  6.95%\n",
       "\n",
       "  \u001b[39m \u001b[39m▁\u001b[39m▃\u001b[39m▅\u001b[39m█\u001b[34m▄\u001b[39m\u001b[39m \u001b[39m \u001b[39m \u001b[39m \u001b[39m \u001b[39m \u001b[39m \u001b[39m \u001b[39m \u001b[39m \u001b[39m \u001b[39m \u001b[39m \u001b[39m \u001b[32m \u001b[39m\u001b[39m \u001b[39m \u001b[39m \u001b[39m \u001b[39m \u001b[39m \u001b[39m \u001b[39m \u001b[39m \u001b[39m \u001b[39m \u001b[39m \u001b[39m \u001b[39m \u001b[39m \u001b[39m \u001b[39m \u001b[39m \u001b[39m \u001b[39m \u001b[39m \u001b[39m \u001b[39m \u001b[39m \u001b[39m \u001b[39m \u001b[39m \u001b[39m \u001b[39m \u001b[39m \u001b[39m \u001b[39m \u001b[39m \u001b[39m \u001b[39m \u001b[39m \u001b[39m \u001b[39m \u001b[39m \u001b[39m \n",
       "  \u001b[39m▅\u001b[39m█\u001b[39m█\u001b[39m█\u001b[39m█\u001b[34m█\u001b[39m\u001b[39m█\u001b[39m▄\u001b[39m▃\u001b[39m▃\u001b[39m▂\u001b[39m▁\u001b[39m▁\u001b[39m▁\u001b[39m▁\u001b[39m▁\u001b[39m▁\u001b[39m▁\u001b[39m▁\u001b[39m▁\u001b[32m▁\u001b[39m\u001b[39m▁\u001b[39m▁\u001b[39m▁\u001b[39m▁\u001b[39m▁\u001b[39m▁\u001b[39m▁\u001b[39m▁\u001b[39m▁\u001b[39m▁\u001b[39m▁\u001b[39m▁\u001b[39m▂\u001b[39m▁\u001b[39m▁\u001b[39m▂\u001b[39m▁\u001b[39m▁\u001b[39m▁\u001b[39m▁\u001b[39m▁\u001b[39m▁\u001b[39m▁\u001b[39m▁\u001b[39m▁\u001b[39m▁\u001b[39m▂\u001b[39m▄\u001b[39m▄\u001b[39m▅\u001b[39m█\u001b[39m▇\u001b[39m▅\u001b[39m▄\u001b[39m▄\u001b[39m▄\u001b[39m▃\u001b[39m▃\u001b[39m \u001b[39m▃\n",
       "  20.2 ms\u001b[90m         Histogram: frequency by time\u001b[39m        24.4 ms \u001b[0m\u001b[1m<\u001b[22m\n",
       "\n",
       " Memory estimate\u001b[90m: \u001b[39m\u001b[33m34.17 MiB\u001b[39m, allocs estimate\u001b[90m: \u001b[39m\u001b[33m2\u001b[39m."
      ]
     },
     "execution_count": 5,
     "metadata": {},
     "output_type": "execute_result"
    }
   ],
   "source": [
    "@benchmark score(Full, seq[1], seq[2])"
   ]
  },
  {
   "cell_type": "code",
   "execution_count": null,
   "id": "02c3dd96",
   "metadata": {},
   "outputs": [],
   "source": []
  }
 ],
 "metadata": {
  "kernelspec": {
   "display_name": "Julia 1.8.5",
   "language": "julia",
   "name": "julia-1.8"
  },
  "language_info": {
   "file_extension": ".jl",
   "mimetype": "application/julia",
   "name": "julia",
   "version": "1.8.5"
  }
 },
 "nbformat": 4,
 "nbformat_minor": 5
}
